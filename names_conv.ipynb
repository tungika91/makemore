{
 "cells": [
  {
   "cell_type": "code",
   "execution_count": 40,
   "metadata": {},
   "outputs": [
    {
     "data": {
      "text/plain": [
       "0       Nguyễn Thị Như Quỳnh\n",
       "1              Lê Hoàng Quân\n",
       "2            Đinh Văn Phượng\n",
       "3        Nguyễn Echam Samuel\n",
       "4           Nguyễn Xuân Sang\n",
       "                ...         \n",
       "8752            Lê Thiên Thi\n",
       "8753          Phan Tấn Thành\n",
       "8754        Nguyễn Thế Thành\n",
       "8755     Trần Thành Vi Thanh\n",
       "8756        Nguyễn Mạnh Thảo\n",
       "Name: full_name, Length: 8757, dtype: object"
      ]
     },
     "execution_count": 40,
     "metadata": {},
     "output_type": "execute_result"
    }
   ],
   "source": [
    "import pandas as pd\n",
    "\n",
    "df = pd.read_json('uit_member.json')\n",
    "df['full_name']"
   ]
  },
  {
   "cell_type": "code",
   "execution_count": 41,
   "metadata": {},
   "outputs": [],
   "source": [
    "names = df['full_name'].values"
   ]
  },
  {
   "cell_type": "code",
   "execution_count": 42,
   "metadata": {},
   "outputs": [],
   "source": [
    "with open(\"vnese_fullnames.txt\", \"w\", encoding=\"utf-8\") as output:\n",
    "    for name in names:\n",
    "        output.write(str(name) + '\\n')"
   ]
  },
  {
   "cell_type": "code",
   "execution_count": null,
   "metadata": {},
   "outputs": [],
   "source": []
  }
 ],
 "metadata": {
  "kernelspec": {
   "display_name": "Python 3",
   "language": "python",
   "name": "python3"
  },
  "language_info": {
   "codemirror_mode": {
    "name": "ipython",
    "version": 3
   },
   "file_extension": ".py",
   "mimetype": "text/x-python",
   "name": "python",
   "nbconvert_exporter": "python",
   "pygments_lexer": "ipython3",
   "version": "3.10.6"
  }
 },
 "nbformat": 4,
 "nbformat_minor": 2
}
